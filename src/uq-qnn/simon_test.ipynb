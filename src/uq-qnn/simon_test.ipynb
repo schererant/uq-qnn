{
 "cells": [
  {
   "cell_type": "code",
   "execution_count": null,
   "metadata": {},
   "outputs": [
    {
     "name": "stderr",
     "output_type": "stream",
     "text": [
      "/Users/anani/Code/uq-qnn/.venv/lib/python3.9/site-packages/scipy/integrate/_quadpack_py.py:1272: IntegrationWarning: The maximum number of subdivisions (50) has been achieved.\n",
      "  If increasing the limit yields no improvement it is advised to analyze \n",
      "  the integrand in order to determine the difficulties.  If the position of a \n",
      "  local difficulty can be determined (singularity, discontinuity) one will \n",
      "  probably gain from splitting up the interval and calling the integrator \n",
      "  on the subranges.  Perhaps a special-purpose integrator should be used.\n",
      "  quad_r = quad(f, low, high, args=args, full_output=self.full_output,\n",
      "/var/folders/qr/scdb4s4n6dz5463spyd32yth0000gn/T/ipykernel_67338/3758089908.py:13: RuntimeWarning: overflow encountered in exp\n",
      "  * np.exp(-2 * x * y * np.cos(ts - ti))\n",
      "/var/folders/qr/scdb4s4n6dz5463spyd32yth0000gn/T/ipykernel_67338/3758089908.py:12: RuntimeWarning: invalid value encountered in scalar multiply\n",
      "  x * np.exp(-((1 + b ** 2) * x ** 2 + y ** 2))\n",
      "  0%|          | 0/7 [00:00<?, ?it/s]/Users/anani/Code/uq-qnn/.venv/lib/python3.9/site-packages/scipy/integrate/_quadpack_py.py:1272: IntegrationWarning: The occurrence of roundoff error is detected, which prevents \n",
      "  the requested tolerance from being achieved.  The error may be \n",
      "  underestimated.\n",
      "  quad_r = quad(f, low, high, args=args, full_output=self.full_output,\n"
     ]
    }
   ],
   "source": [
    "import numpy as np\n",
    "from scipy.integrate import nquad\n",
    "from concurrent.futures import ThreadPoolExecutor, as_completed\n",
    "from tqdm import tqdm\n",
    "\n",
    "np_val = 1.84085\n",
    "ns_val = 1.75665\n",
    "ni_val = 1.84475\n",
    "\n",
    "def nint(y, ti, a, b, g):\n",
    "    integrand = lambda x, ts: np.abs(\n",
    "        x * np.exp(-((1 + b ** 2) * x ** 2 + y ** 2))\n",
    "        * np.exp(-2 * x * y * np.cos(ts - ti))\n",
    "        * np.sinc(g / 2 + a * ((1 - 2 * np_val / ns_val) * x ** 2 + (1 - 2 * np_val / ni_val) * y ** 2 + 2 * x * y * np.cos(ts - ti)))\n",
    "    )\n",
    "    result, _ = nquad(integrand, [[0, np.inf], [0, 2 * np.pi]])\n",
    "    return result ** 2\n",
    "\n",
    "def f(a, b, g):\n",
    "    f_integrand = lambda y, ti: nint(y, ti, a, b, g)\n",
    "    result, _ = nquad(f_integrand, [[0, np.inf], [0, 2 * np.pi]])\n",
    "    return (4 / np.pi ** 4) * a * b * g * result\n",
    "\n",
    "def compute_f_values(param_list):\n",
    "    results = {}\n",
    "    with ThreadPoolExecutor() as executor:\n",
    "        future_to_params = {executor.submit(f, *params): params for params in param_list}\n",
    "        with tqdm(total=len(future_to_params)) as pbar:\n",
    "            for future in as_completed(future_to_params):\n",
    "                params = future_to_params[future]\n",
    "                try:\n",
    "                    results[params] = future.result()\n",
    "                except Exception as exc:\n",
    "                    results[params] = f'Error: {exc}'\n",
    "                pbar.update(1)\n",
    "                print(f'f{params} = {results[params]}')\n",
    "    return results\n",
    "\n",
    "# Parameters to evaluate\n",
    "param_list = [\n",
    "    (2.7, 0.5, 3.2),\n",
    "    (2.7, 1, 3.2),\n",
    "    (2.7, np.sqrt(2), 3.2),\n",
    "    (2.7, 1.75, 3.2),\n",
    "    (2.7, 2, 3.2),\n",
    "    (2.7, 2.5, 3.2),\n",
    "    (2.7, 4, 3.2)\n",
    "]\n",
    "\n",
    "# Run computations in parallel\n",
    "results = compute_f_values(param_list)"
   ]
  },
  {
   "cell_type": "code",
   "execution_count": null,
   "metadata": {},
   "outputs": [],
   "source": []
  }
 ],
 "metadata": {
  "kernelspec": {
   "display_name": ".venv",
   "language": "python",
   "name": "python3"
  },
  "language_info": {
   "codemirror_mode": {
    "name": "ipython",
    "version": 3
   },
   "file_extension": ".py",
   "mimetype": "text/x-python",
   "name": "python",
   "nbconvert_exporter": "python",
   "pygments_lexer": "ipython3",
   "version": "3.9.16"
  }
 },
 "nbformat": 4,
 "nbformat_minor": 2
}
