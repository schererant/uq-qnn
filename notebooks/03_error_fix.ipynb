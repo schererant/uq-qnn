{
 "cells": [
  {
   "cell_type": "code",
   "execution_count": 1,
   "metadata": {},
   "outputs": [],
   "source": [
    "import os\n",
    "import sys\n",
    "\n",
    "os.environ['TF_CPP_MIN_LOG_LEVEL'] = '3' \n",
    "# Set the working directory to the project root\n",
    "project_root = os.path.abspath(os.path.join(os.getcwd(), '..'))\n",
    "if project_root not in sys.path:\n",
    "    sys.path.append(project_root)\n",
    "\n",
    "from src.config import Config\n",
    "\n",
    "# Create default config\n",
    "# DEFAULT_CONFIG_PATH = os.path.join(os.path.dirname(__file__), '../config/config.yaml')\n",
    "Config = Config.from_yaml(os.path.join(project_root, 'config/config.yaml'))\n",
    "\n",
    "import numpy as np\n",
    "import tensorflow as tf\n",
    "import strawberryfields as sf\n",
    "from strawberryfields.ops import *\n",
    "import pickle\n",
    "import random as rd\n",
    "import warnings\n",
    "from datetime import datetime\n",
    "import uncertainty_toolbox as uct\n",
    "from itertools import product\n",
    "from tqdm import tqdm\n",
    "\n",
    "from src.dataloader import get_data, quartic_data\n",
    "from src.plotting import plot_predictions, plot_training_results, plot_predictions_new, plot_eval_metrics, plot_mlp_architecture_vs_rmse, plot_data\n",
    "from src.baseline import train_mlp_baseline, predict_mlp_baseline, train_polynomial_baseline, predict_polynomial_baseline\n",
    "from src.uq import selective_prediction, compute_eval_metrics\n",
    "from src.model import train_memristor, predict_memristor, build_circuit\n",
    "from src.utils import format_metrics, format_hyperparameters\n",
    "from src.logger import log_experiment_id\n",
    "\n",
    "tf.get_logger().setLevel('ERROR')\n",
    "warnings.filterwarnings(\"ignore\")\n",
    "\n",
    "# Set random seeds for reproducibility\n",
    "# np.random.seed(42)\n",
    "# tf.random.set_seed(42)\n",
    "# rd.seed(42)"
   ]
  },
  {
   "cell_type": "code",
   "execution_count": 2,
   "metadata": {},
   "outputs": [],
   "source": [
    "# Create directory called experiment_CONFIG.LOG_NAME in reports/logs\n",
    "date = datetime.now().strftime('%Y%m%d_%H%M%S')\n",
    "os.makedirs(f\"reports/baseline_{date}/logs\", exist_ok=False)\n",
    "os.makedirs(f\"reports/baseline_{date}/plots\", exist_ok=False)\n",
    "\n",
    "Config.log_file_name = f\"reports/baseline_{date}/log.txt\"\n",
    "Config.plot_path = f\"reports/baseline_{date}/plots/\"\n",
    "Config.param_id = f\"hp_s{Config.training.steps}_lr{Config.training.learning_rate}_md{Config.training.memory_depth}_cd{Config.training.cutoff_dim}\"    \n",
    "\n",
    "# Log experiment id\n",
    "log_experiment_id(Config.log_file_name, Config.param_id, \"Selective Prediction Sample\")\n",
    "\n",
    "\n",
    "\n",
    "X_train, y_train, X_test, y_test, _ = get_data(n_data=Config.data.n_data, \n",
    "                                                sigma_noise_1=Config.data.sigma_noise_1, \n",
    "                                                datafunction=quartic_data\n",
    "                                                )"
   ]
  },
  {
   "cell_type": "code",
   "execution_count": 3,
   "metadata": {},
   "outputs": [],
   "source": [
    "filename = \"/Users/anani/Code/uq-qnn/notebooks/reports/baseline_20241206_112453/trained_params_hp_s5_lr0.05_md5_cd4.pkl\"\n",
    "with open(filename, 'rb') as f:\n",
    "        trained_param = pickle.load(f)\n",
    "\n",
    "res_mem = trained_param['res_mem']\n",
    "phase1 = trained_param['phase1']\n",
    "phase3 = trained_param['phase3']\n",
    "memristor_weight = trained_param['memristor_weight'] "
   ]
  },
  {
   "cell_type": "code",
   "execution_count": null,
   "metadata": {},
   "outputs": [],
   "source": []
  },
  {
   "cell_type": "code",
   "execution_count": 4,
   "metadata": {},
   "outputs": [
    {
     "name": "stderr",
     "output_type": "stream",
     "text": [
      "Prediction Samples:   0%|          | 0/1 [00:00<?, ?sample/s]"
     ]
    },
    {
     "name": "stderr",
     "output_type": "stream",
     "text": [
      "Prediction Samples: 100%|██████████| 1/1 [00:12<00:00, 12.41s/sample]\n",
      "Prediction Samples: 100%|██████████| 2/2 [00:21<00:00, 10.79s/sample]\n",
      "Prediction Samples: 100%|██████████| 3/3 [00:31<00:00, 10.61s/sample]\n",
      "Prediction Samples: 100%|██████████| 4/4 [00:42<00:00, 10.73s/sample]\n",
      "Prediction Samples: 100%|██████████| 5/5 [00:53<00:00, 10.64s/sample]\n",
      "Prediction Samples: 100%|██████████| 6/6 [01:03<00:00, 10.54s/sample]\n",
      "Prediction Samples: 100%|██████████| 7/7 [01:14<00:00, 10.62s/sample]\n",
      "Prediction Samples: 100%|██████████| 8/8 [01:26<00:00, 10.82s/sample]\n",
      "Prediction Samples: 100%|██████████| 9/9 [01:36<00:00, 10.70s/sample]\n",
      "Prediction Samples: 100%|██████████| 10/10 [01:48<00:00, 10.88s/sample]\n",
      "Prediction Samples: 100%|██████████| 20/20 [03:28<00:00, 10.40s/sample]\n",
      "Prediction Samples: 100%|██████████| 30/30 [05:03<00:00, 10.11s/sample]\n",
      "Prediction Samples: 100%|██████████| 40/40 [06:41<00:00, 10.04s/sample]\n",
      "Prediction Samples: 100%|██████████| 50/50 [08:22<00:00, 10.04s/sample]\n"
     ]
    }
   ],
   "source": [
    "sample_sizes = [1, 2, 3, 4, 5, 6, 7, 8, 9, 10, 20, 30, 40, 50]\n",
    "\n",
    "for sample_size in sample_sizes:\n",
    "    predictions, targets, predictive_uncertainty, all_predictions = predict_memristor(X_test, \n",
    "                                                                    y_test, \n",
    "                                                                    memory_depth=6, \n",
    "                                                                    phase1=phase1, \n",
    "                                                                    phase3=phase3, \n",
    "                                                                    memristor_weight=memristor_weight,\n",
    "                                                                    stochastic=True, \n",
    "                                                                    var=0.1, \n",
    "                                                                    samples=sample_size,\n",
    "                                                                    cutoff_dim=4,\n",
    "                                                                    log_filepath=Config.log_file_name,\n",
    "                                                                    log_path=f\"reports/baseline_{date}/\",\n",
    "                                                                    param_id=Config.param_id,\n",
    "                                                                    plot_path=Config.plot_path\n",
    "                                                                    )"
   ]
  },
  {
   "cell_type": "code",
   "execution_count": null,
   "metadata": {},
   "outputs": [],
   "source": []
  }
 ],
 "metadata": {
  "kernelspec": {
   "display_name": ".venv",
   "language": "python",
   "name": "python3"
  },
  "language_info": {
   "codemirror_mode": {
    "name": "ipython",
    "version": 3
   },
   "file_extension": ".py",
   "mimetype": "text/x-python",
   "name": "python",
   "nbconvert_exporter": "python",
   "pygments_lexer": "ipython3",
   "version": "3.9.16"
  }
 },
 "nbformat": 4,
 "nbformat_minor": 2
}
