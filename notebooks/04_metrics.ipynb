{
 "cells": [
  {
   "cell_type": "code",
   "execution_count": 1,
   "metadata": {},
   "outputs": [
    {
     "ename": "KeyError",
     "evalue": "'paths'",
     "output_type": "error",
     "traceback": [
      "\u001b[0;31m---------------------------------------------------------------------------\u001b[0m",
      "\u001b[0;31mKeyError\u001b[0m                                  Traceback (most recent call last)",
      "Cell \u001b[0;32mIn[1], line 10\u001b[0m\n\u001b[1;32m      7\u001b[0m \u001b[38;5;28;01mif\u001b[39;00m project_root \u001b[38;5;129;01mnot\u001b[39;00m \u001b[38;5;129;01min\u001b[39;00m sys\u001b[38;5;241m.\u001b[39mpath:\n\u001b[1;32m      8\u001b[0m     sys\u001b[38;5;241m.\u001b[39mpath\u001b[38;5;241m.\u001b[39mappend(project_root)\n\u001b[0;32m---> 10\u001b[0m \u001b[38;5;28;01mfrom\u001b[39;00m \u001b[38;5;21;01msrc\u001b[39;00m\u001b[38;5;21;01m.\u001b[39;00m\u001b[38;5;21;01mconfig\u001b[39;00m \u001b[38;5;28;01mimport\u001b[39;00m Config\n\u001b[1;32m     12\u001b[0m \u001b[38;5;66;03m# Create default config\u001b[39;00m\n\u001b[1;32m     13\u001b[0m \u001b[38;5;66;03m# DEFAULT_CONFIG_PATH = os.path.join(os.path.dirname(__file__), '../config/config.yaml')\u001b[39;00m\n\u001b[1;32m     14\u001b[0m Config \u001b[38;5;241m=\u001b[39m Config\u001b[38;5;241m.\u001b[39mfrom_yaml(os\u001b[38;5;241m.\u001b[39mpath\u001b[38;5;241m.\u001b[39mjoin(project_root, \u001b[38;5;124m'\u001b[39m\u001b[38;5;124mconfig/config.yaml\u001b[39m\u001b[38;5;124m'\u001b[39m))\n",
      "File \u001b[0;32m~/Code/uq-qnn/src/config.py:101\u001b[0m\n\u001b[1;32m     99\u001b[0m \u001b[38;5;66;03m# Create default config\u001b[39;00m\n\u001b[1;32m    100\u001b[0m DEFAULT_CONFIG_PATH \u001b[38;5;241m=\u001b[39m os\u001b[38;5;241m.\u001b[39mpath\u001b[38;5;241m.\u001b[39mjoin(os\u001b[38;5;241m.\u001b[39mpath\u001b[38;5;241m.\u001b[39mdirname(\u001b[38;5;18m__file__\u001b[39m), \u001b[38;5;124m'\u001b[39m\u001b[38;5;124m../config/config.yaml\u001b[39m\u001b[38;5;124m'\u001b[39m)\n\u001b[0;32m--> 101\u001b[0m Config \u001b[38;5;241m=\u001b[39m \u001b[43mConfig\u001b[49m\u001b[38;5;241;43m.\u001b[39;49m\u001b[43mfrom_yaml\u001b[49m\u001b[43m(\u001b[49m\u001b[43mDEFAULT_CONFIG_PATH\u001b[49m\u001b[43m)\u001b[49m\n",
      "File \u001b[0;32m~/Code/uq-qnn/src/config.py:82\u001b[0m, in \u001b[0;36mConfig.from_yaml\u001b[0;34m(cls, yaml_path)\u001b[0m\n\u001b[1;32m     71\u001b[0m \u001b[38;5;28;01mwith\u001b[39;00m \u001b[38;5;28mopen\u001b[39m(yaml_path, \u001b[38;5;124m'\u001b[39m\u001b[38;5;124mr\u001b[39m\u001b[38;5;124m'\u001b[39m) \u001b[38;5;28;01mas\u001b[39;00m f:\n\u001b[1;32m     72\u001b[0m     config_dict \u001b[38;5;241m=\u001b[39m yaml\u001b[38;5;241m.\u001b[39msafe_load(f)\n\u001b[1;32m     74\u001b[0m \u001b[38;5;28;01mreturn\u001b[39;00m \u001b[38;5;28mcls\u001b[39m(\n\u001b[1;32m     75\u001b[0m     hyperparameter\u001b[38;5;241m=\u001b[39mHyperparameterConfig(\u001b[38;5;241m*\u001b[39m\u001b[38;5;241m*\u001b[39mconfig_dict[\u001b[38;5;124m'\u001b[39m\u001b[38;5;124mhyperparameter_optimization\u001b[39m\u001b[38;5;124m'\u001b[39m]),\n\u001b[1;32m     76\u001b[0m     model_comparison\u001b[38;5;241m=\u001b[39mModelComparisonConfig(\u001b[38;5;241m*\u001b[39m\u001b[38;5;241m*\u001b[39mconfig_dict[\u001b[38;5;124m'\u001b[39m\u001b[38;5;124mmodel_comparison\u001b[39m\u001b[38;5;124m'\u001b[39m]),\n\u001b[1;32m     77\u001b[0m     mlp\u001b[38;5;241m=\u001b[39mMLPConfig(\u001b[38;5;241m*\u001b[39m\u001b[38;5;241m*\u001b[39mconfig_dict[\u001b[38;5;124m'\u001b[39m\u001b[38;5;124mmlp\u001b[39m\u001b[38;5;124m'\u001b[39m]), \n\u001b[1;32m     78\u001b[0m     polynomial\u001b[38;5;241m=\u001b[39mPolynomialConfig(\u001b[38;5;241m*\u001b[39m\u001b[38;5;241m*\u001b[39mconfig_dict[\u001b[38;5;124m'\u001b[39m\u001b[38;5;124mpolynomial\u001b[39m\u001b[38;5;124m'\u001b[39m]),\n\u001b[1;32m     79\u001b[0m     prediction\u001b[38;5;241m=\u001b[39mPredictionConfig(\u001b[38;5;241m*\u001b[39m\u001b[38;5;241m*\u001b[39mconfig_dict[\u001b[38;5;124m'\u001b[39m\u001b[38;5;124mprediction\u001b[39m\u001b[38;5;124m'\u001b[39m]),\n\u001b[1;32m     80\u001b[0m     training\u001b[38;5;241m=\u001b[39mTrainingConfig(\u001b[38;5;241m*\u001b[39m\u001b[38;5;241m*\u001b[39mconfig_dict[\u001b[38;5;124m'\u001b[39m\u001b[38;5;124mtraining\u001b[39m\u001b[38;5;124m'\u001b[39m]),\n\u001b[1;32m     81\u001b[0m     data\u001b[38;5;241m=\u001b[39mDataConfig(\u001b[38;5;241m*\u001b[39m\u001b[38;5;241m*\u001b[39mconfig_dict[\u001b[38;5;124m'\u001b[39m\u001b[38;5;124mdata\u001b[39m\u001b[38;5;124m'\u001b[39m]),\n\u001b[0;32m---> 82\u001b[0m     paths\u001b[38;5;241m=\u001b[39mPathConfig(\u001b[38;5;241m*\u001b[39m\u001b[38;5;241m*\u001b[39m\u001b[43mconfig_dict\u001b[49m\u001b[43m[\u001b[49m\u001b[38;5;124;43m'\u001b[39;49m\u001b[38;5;124;43mpaths\u001b[39;49m\u001b[38;5;124;43m'\u001b[39;49m\u001b[43m]\u001b[49m)\n\u001b[1;32m     83\u001b[0m )\n",
      "\u001b[0;31mKeyError\u001b[0m: 'paths'"
     ]
    }
   ],
   "source": [
    "import os\n",
    "import sys\n",
    "\n",
    "os.environ['TF_CPP_MIN_LOG_LEVEL'] = '3' \n",
    "# Set the working directory to the project root\n",
    "project_root = os.path.abspath(os.path.join(os.getcwd(), '..'))\n",
    "if project_root not in sys.path:\n",
    "    sys.path.append(project_root)\n",
    "\n",
    "from src.config import Config\n",
    "\n",
    "# Create default config\n",
    "# DEFAULT_CONFIG_PATH = os.path.join(os.path.dirname(__file__), '../config/config.yaml')\n",
    "Config = Config.from_yaml(os.path.join(project_root, 'config/config.yaml'))\n",
    "\n",
    "import numpy as np\n",
    "import tensorflow as tf\n",
    "import strawberryfields as sf\n",
    "from strawberryfields.ops import *\n",
    "import pickle\n",
    "import random as rd\n",
    "import warnings\n",
    "from datetime import datetime\n",
    "import uncertainty_toolbox as uct\n",
    "from itertools import product\n",
    "from tqdm import tqdm\n",
    "\n",
    "from src.dataloader import get_data, quartic_data\n",
    "from src.plotting import plot_predictions, plot_training_results, plot_predictions_new, plot_eval_metrics, plot_mlp_architecture_vs_rmse, plot_data\n",
    "from src.baseline import train_mlp_baseline, predict_mlp_baseline, train_polynomial_baseline, predict_polynomial_baseline\n",
    "from src.uq import selective_prediction, compute_eval_metrics\n",
    "from src.model import train_memristor, predict_memristor, build_circuit\n",
    "from src.utils import format_metrics, format_hyperparameters\n",
    "from src.config import Config\n",
    "from src.logger import ExperimentLogger\n",
    "\n",
    "\n",
    "tf.get_logger().setLevel('ERROR')\n",
    "warnings.filterwarnings(\"ignore\")\n",
    "\n",
    "# Set random seeds for reproducibility\n",
    "# np.random.seed(42)\n",
    "# tf.random.set_seed(42)\n",
    "# rd.seed(42)"
   ]
  },
  {
   "cell_type": "code",
   "execution_count": null,
   "metadata": {},
   "outputs": [],
   "source": [
    "# Create directory called experiment_CONFIG.LOG_NAME in reports/logs\n",
    "# create_experiment_dir()\n",
    "\n",
    "# Config.log_file_name = f\"reports/baseline_{date}/log.txt\"\n",
    "# Config.plot_path = f\"reports/baseline_{date}/plots/\"\n",
    "# Config.param_id = f\"hp_s{Config.training.steps}_lr{Config.training.learning_rate}_md{Config.training.memory_depth}_cd{Config.training.cutoff_dim}\"    \n",
    "\n",
    "# # Log experiment id\n",
    "# log_experiment_id(Config.log_file_name, Config.param_id, \"Selective Prediction Sample\")\n",
    "\n",
    "\n",
    "\n",
    "X_train, y_train, X_test, y_test, _ = get_data(n_data=Config.data.n_data, \n",
    "                                                sigma_noise_1=Config.data.sigma_noise_1, \n",
    "                                                datafunction=quartic_data\n",
    "                                                )"
   ]
  },
  {
   "cell_type": "code",
   "execution_count": null,
   "metadata": {},
   "outputs": [],
   "source": []
  },
  {
   "cell_type": "code",
   "execution_count": null,
   "metadata": {},
   "outputs": [],
   "source": [
    "# Train model\n",
    "res_mem, phase1, phase3, memristor_weight = train_memristor(X_train, \n",
    "                                                            y_train, \n",
    "                                                            memory_depth=6, \n",
    "                                                            training_steps=70,\n",
    "                                                            learning_rate=0.1,\n",
    "                                                            cutoff_dim=4,\n",
    "                                                            log_filepath=Config.log_file_name,\n",
    "                                                            log_path=f\"reports/baseline_{date}/\",\n",
    "                                                            param_id=Config.param_id\n",
    "                                                            )\n"
   ]
  },
  {
   "cell_type": "code",
   "execution_count": null,
   "metadata": {},
   "outputs": [],
   "source": [
    "# Predict model\n",
    "predictions, targets, predictive_uncertainty, all_predictions = predict_memristor(X_test, \n",
    "                                                                y_test, \n",
    "                                                                memory_depth=6, \n",
    "                                                                phase1=phase1, \n",
    "                                                                phase3=phase3, \n",
    "                                                                memristor_weight=memristor_weight,\n",
    "                                                                stochastic=True, \n",
    "                                                                var=0.1, \n",
    "                                                                samples=300,\n",
    "                                                                cutoff_dim=4,\n",
    "                                                                log_filepath=Config.log_file_name,\n",
    "                                                                log_path=f\"reports/baseline_{date}/\",\n",
    "                                                                param_id=Config.param_id\n",
    "                                                                ) "
   ]
  }
 ],
 "metadata": {
  "kernelspec": {
   "display_name": ".venv",
   "language": "python",
   "name": "python3"
  },
  "language_info": {
   "codemirror_mode": {
    "name": "ipython",
    "version": 3
   },
   "file_extension": ".py",
   "mimetype": "text/x-python",
   "name": "python",
   "nbconvert_exporter": "python",
   "pygments_lexer": "ipython3",
   "version": "3.9.16"
  }
 },
 "nbformat": 4,
 "nbformat_minor": 2
}
