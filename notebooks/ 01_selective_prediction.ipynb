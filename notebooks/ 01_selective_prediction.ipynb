{
 "cells": [
  {
   "cell_type": "code",
   "execution_count": 1,
   "metadata": {},
   "outputs": [],
   "source": [
    "import os\n",
    "import sys\n",
    "\n",
    "# Set the working directory to the project root\n",
    "project_root = os.path.abspath(os.path.join(os.getcwd(), '..'))\n",
    "if project_root not in sys.path:\n",
    "    sys.path.append(project_root)\n",
    "\n",
    "from src.config import Config\n",
    "\n",
    "# Create default config\n",
    "# DEFAULT_CONFIG_PATH = os.path.join(os.path.dirname(__file__), '../config/config.yaml')\n",
    "Config = Config.from_yaml(os.path.join(project_root, 'config/config.yaml'))\n",
    "\n",
    "import numpy as np\n",
    "import tensorflow as tf\n",
    "import strawberryfields as sf\n",
    "from strawberryfields.ops import *\n",
    "import pickle\n",
    "import random as rd\n",
    "import warnings\n",
    "from datetime import datetime\n",
    "import uncertainty_toolbox as uct\n",
    "from itertools import product\n",
    "from tqdm import tqdm\n",
    "\n",
    "from src.dataloader import get_data, quartic_data\n",
    "from src.plotting import plot_predictions, plot_training_results, plot_predictions_new, plot_eval_metrics, plot_mlp_architecture_vs_rmse, plot_data\n",
    "from src.baseline import train_mlp_baseline, predict_mlp_baseline, train_polynomial_baseline, predict_polynomial_baseline\n",
    "from src.uq import selective_prediction, compute_eval_metrics\n",
    "from src.model import train_memristor, predict_memristor, build_circuit\n",
    "from src.utils import format_metrics, format_hyperparameters\n",
    "from src.logger import log_experiment_id\n",
    "\n",
    "# Set random seeds for reproducibility\n",
    "np.random.seed(42)\n",
    "tf.random.set_seed(42)\n",
    "rd.seed(42)\n",
    "\n"
   ]
  },
  {
   "cell_type": "code",
   "execution_count": 4,
   "metadata": {},
   "outputs": [
    {
     "name": "stdout",
     "output_type": "stream",
     "text": [
      "Training MLP Baseline Models...\n"
     ]
    },
    {
     "name": "stderr",
     "output_type": "stream",
     "text": [
      "/Users/anani/Code/uq-qnn/.venv/lib/python3.9/site-packages/keras/src/layers/core/input_layer.py:25: UserWarning: Argument `input_shape` is deprecated. Use `shape` instead.\n"
     ]
    },
    {
     "name": "stdout",
     "output_type": "stream",
     "text": [
      "\u001b[1m16/16\u001b[0m \u001b[32m━━━━━━━━━━━━━━━━━━━━\u001b[0m\u001b[37m\u001b[0m \u001b[1m0s\u001b[0m 1ms/step \n",
      " (1/n) Calculating accuracy metrics\n"
     ]
    },
    {
     "name": "stderr",
     "output_type": "stream",
     "text": [
      "/Users/anani/Code/uq-qnn/.venv/lib/python3.9/site-packages/keras/src/layers/core/input_layer.py:25: UserWarning: Argument `input_shape` is deprecated. Use `shape` instead.\n"
     ]
    },
    {
     "name": "stdout",
     "output_type": "stream",
     "text": [
      "\u001b[1m16/16\u001b[0m \u001b[32m━━━━━━━━━━━━━━━━━━━━\u001b[0m\u001b[37m\u001b[0m \u001b[1m0s\u001b[0m 2ms/step \n",
      " (1/n) Calculating accuracy metrics\n"
     ]
    },
    {
     "name": "stderr",
     "output_type": "stream",
     "text": [
      "/Users/anani/Code/uq-qnn/.venv/lib/python3.9/site-packages/keras/src/layers/core/input_layer.py:25: UserWarning: Argument `input_shape` is deprecated. Use `shape` instead.\n"
     ]
    },
    {
     "name": "stdout",
     "output_type": "stream",
     "text": [
      "\u001b[1m16/16\u001b[0m \u001b[32m━━━━━━━━━━━━━━━━━━━━\u001b[0m\u001b[37m\u001b[0m \u001b[1m0s\u001b[0m 2ms/step \n",
      " (1/n) Calculating accuracy metrics\n"
     ]
    },
    {
     "name": "stderr",
     "output_type": "stream",
     "text": [
      "/Users/anani/Code/uq-qnn/.venv/lib/python3.9/site-packages/keras/src/layers/core/input_layer.py:25: UserWarning: Argument `input_shape` is deprecated. Use `shape` instead.\n"
     ]
    },
    {
     "name": "stdout",
     "output_type": "stream",
     "text": [
      "\u001b[1m16/16\u001b[0m \u001b[32m━━━━━━━━━━━━━━━━━━━━\u001b[0m\u001b[37m\u001b[0m \u001b[1m0s\u001b[0m 2ms/step \n",
      " (1/n) Calculating accuracy metrics\n"
     ]
    }
   ],
   "source": [
    "# Create directory called experiment_CONFIG.LOG_NAME in reports/logs\n",
    "date = datetime.now().strftime('%Y%m%d_%H%M%S')\n",
    "os.makedirs(f\"reports/baseline_{date}/logs\", exist_ok=False)\n",
    "os.makedirs(f\"reports/baseline_{date}/plots\", exist_ok=False)\n",
    "\n",
    "Config.log_file_name = f\"reports/baseline_{date}/log.txt\"\n",
    "Config.plot_path = f\"reports/baseline_{date}/plots/\"\n",
    "Config.param_id = f\"hp_s{Config.training.steps}_lr{Config.training.learning_rate}_md{Config.training.memory_depth}_cd{Config.training.cutoff_dim}\"    \n",
    "\n",
    "# Log experiment id\n",
    "log_experiment_id(Config.log_file_name, Config.param_id, \"MLP Baseline Search\")\n",
    "\n",
    "X_train, y_train, X_test, y_test, _ = get_data(n_data=Config.data.n_data, \n",
    "                                                sigma_noise_1=Config.data.sigma_noise_1, \n",
    "                                                datafunction=quartic_data\n",
    "                                                )\n",
    "\n",
    "# plot_data(X_train, y_train, X_test, y_test, save_path=Config.plot_path + \"data.png\")\n",
    "\n",
    "\n",
    "print(\"Training MLP Baseline Models...\")\n",
    "mlp_architectures = [[20], [20, 20], [20, 20, 20], [20, 20, 20, 20]]\n",
    "rmse_values = []\n",
    "\n",
    "for hidden_layers in mlp_architectures:\n",
    "    mlp_model = train_mlp_baseline(\n",
    "        X_train, \n",
    "        y_train, \n",
    "        hidden_layers=hidden_layers,\n",
    "        epochs=10,\n",
    "        learning_rate=0.01\n",
    "    )\n",
    "    mlp_predictions = predict_mlp_baseline(mlp_model, X_test)\n",
    "    metrics, metric_categories = compute_eval_metrics(\n",
    "        np.array(mlp_predictions), \n",
    "        np.array(y_test), \n",
    "        np.array([]),\n",
    "        Config.log_file_name,\n",
    "        Config.param_id\n",
    "    )\n",
    "\n",
    "    rmse_values.append(metrics['accuracy']['rmse'])\n",
    "# plot mlp architecture vs rmse using a new plotting function\n",
    "\n",
    "import matplotlib.pyplot as plt\n",
    "\n",
    "# Define the plotting function\n",
    "def plot_mlp_architecture_vs_rmse(architectures, rmse_values, save_path=None):\n",
    "    plt.figure(figsize=(10, 6))\n",
    "    plt.plot([str(arch) for arch in architectures], rmse_values, marker='o')\n",
    "    plt.xlabel('MLP Architecture (Hidden Layers)')\n",
    "    plt.ylabel('RMSE')\n",
    "    plt.title('MLP Architecture vs RMSE')\n",
    "    plt.grid(True)\n",
    "    \n",
    "    if save_path is not None:\n",
    "        plt.savefig(save_path)\n",
    "        plt.close()\n",
    "    else:\n",
    "        plt.show()\n",
    "\n",
    "\n",
    "# Plot MLP architecture vs RMSE\n",
    "plot_mlp_architecture_vs_rmse(\n",
    "    mlp_architectures,\n",
    "    rmse_values,\n",
    "    save_path=Config.plot_path + \"mlp_architecture_vs_rmse.png\"\n",
    ")\n",
    "\n"
   ]
  },
  {
   "cell_type": "code",
   "execution_count": null,
   "metadata": {},
   "outputs": [],
   "source": [
    "\n"
   ]
  },
  {
   "cell_type": "code",
   "execution_count": 10,
   "metadata": {},
   "outputs": [
    {
     "name": "stdout",
     "output_type": "stream",
     "text": [
      "Training MLP Baseline Models...\n"
     ]
    },
    {
     "name": "stderr",
     "output_type": "stream",
     "text": [
      "/Users/anani/Code/uq-qnn/.venv/lib/python3.9/site-packages/keras/src/layers/core/input_layer.py:25: UserWarning: Argument `input_shape` is deprecated. Use `shape` instead.\n"
     ]
    },
    {
     "name": "stdout",
     "output_type": "stream",
     "text": [
      "\u001b[1m16/16\u001b[0m \u001b[32m━━━━━━━━━━━━━━━━━━━━\u001b[0m\u001b[37m\u001b[0m \u001b[1m0s\u001b[0m 1ms/step \n",
      " (1/n) Calculating accuracy metrics\n"
     ]
    },
    {
     "name": "stderr",
     "output_type": "stream",
     "text": [
      "/Users/anani/Code/uq-qnn/.venv/lib/python3.9/site-packages/keras/src/layers/core/input_layer.py:25: UserWarning: Argument `input_shape` is deprecated. Use `shape` instead.\n"
     ]
    },
    {
     "name": "stdout",
     "output_type": "stream",
     "text": [
      "\u001b[1m16/16\u001b[0m \u001b[32m━━━━━━━━━━━━━━━━━━━━\u001b[0m\u001b[37m\u001b[0m \u001b[1m0s\u001b[0m 971us/step\n",
      " (1/n) Calculating accuracy metrics\n"
     ]
    },
    {
     "name": "stderr",
     "output_type": "stream",
     "text": [
      "/Users/anani/Code/uq-qnn/.venv/lib/python3.9/site-packages/keras/src/layers/core/input_layer.py:25: UserWarning: Argument `input_shape` is deprecated. Use `shape` instead.\n"
     ]
    },
    {
     "name": "stdout",
     "output_type": "stream",
     "text": [
      "\u001b[1m16/16\u001b[0m \u001b[32m━━━━━━━━━━━━━━━━━━━━\u001b[0m\u001b[37m\u001b[0m \u001b[1m0s\u001b[0m 1ms/step \n",
      " (1/n) Calculating accuracy metrics\n"
     ]
    },
    {
     "name": "stderr",
     "output_type": "stream",
     "text": [
      "/Users/anani/Code/uq-qnn/.venv/lib/python3.9/site-packages/keras/src/layers/core/input_layer.py:25: UserWarning: Argument `input_shape` is deprecated. Use `shape` instead.\n"
     ]
    },
    {
     "name": "stdout",
     "output_type": "stream",
     "text": [
      "\u001b[1m16/16\u001b[0m \u001b[32m━━━━━━━━━━━━━━━━━━━━\u001b[0m\u001b[37m\u001b[0m \u001b[1m0s\u001b[0m 1ms/step \n",
      " (1/n) Calculating accuracy metrics\n"
     ]
    },
    {
     "name": "stderr",
     "output_type": "stream",
     "text": [
      "/Users/anani/Code/uq-qnn/.venv/lib/python3.9/site-packages/keras/src/layers/core/input_layer.py:25: UserWarning: Argument `input_shape` is deprecated. Use `shape` instead.\n"
     ]
    },
    {
     "name": "stdout",
     "output_type": "stream",
     "text": [
      "\u001b[1m16/16\u001b[0m \u001b[32m━━━━━━━━━━━━━━━━━━━━\u001b[0m\u001b[37m\u001b[0m \u001b[1m0s\u001b[0m 993us/step\n",
      " (1/n) Calculating accuracy metrics\n"
     ]
    },
    {
     "name": "stderr",
     "output_type": "stream",
     "text": [
      "/Users/anani/Code/uq-qnn/.venv/lib/python3.9/site-packages/keras/src/layers/core/input_layer.py:25: UserWarning: Argument `input_shape` is deprecated. Use `shape` instead.\n"
     ]
    },
    {
     "name": "stdout",
     "output_type": "stream",
     "text": [
      "\u001b[1m16/16\u001b[0m \u001b[32m━━━━━━━━━━━━━━━━━━━━\u001b[0m\u001b[37m\u001b[0m \u001b[1m0s\u001b[0m 1ms/step \n",
      " (1/n) Calculating accuracy metrics\n"
     ]
    },
    {
     "name": "stderr",
     "output_type": "stream",
     "text": [
      "/Users/anani/Code/uq-qnn/.venv/lib/python3.9/site-packages/keras/src/layers/core/input_layer.py:25: UserWarning: Argument `input_shape` is deprecated. Use `shape` instead.\n"
     ]
    },
    {
     "name": "stdout",
     "output_type": "stream",
     "text": [
      "\u001b[1m16/16\u001b[0m \u001b[32m━━━━━━━━━━━━━━━━━━━━\u001b[0m\u001b[37m\u001b[0m \u001b[1m0s\u001b[0m 1ms/step \n",
      " (1/n) Calculating accuracy metrics\n"
     ]
    },
    {
     "name": "stderr",
     "output_type": "stream",
     "text": [
      "/Users/anani/Code/uq-qnn/.venv/lib/python3.9/site-packages/keras/src/layers/core/input_layer.py:25: UserWarning: Argument `input_shape` is deprecated. Use `shape` instead.\n"
     ]
    },
    {
     "name": "stdout",
     "output_type": "stream",
     "text": [
      "\u001b[1m16/16\u001b[0m \u001b[32m━━━━━━━━━━━━━━━━━━━━\u001b[0m\u001b[37m\u001b[0m \u001b[1m0s\u001b[0m 1ms/step \n",
      " (1/n) Calculating accuracy metrics\n"
     ]
    },
    {
     "name": "stderr",
     "output_type": "stream",
     "text": [
      "/Users/anani/Code/uq-qnn/.venv/lib/python3.9/site-packages/keras/src/layers/core/input_layer.py:25: UserWarning: Argument `input_shape` is deprecated. Use `shape` instead.\n"
     ]
    },
    {
     "name": "stdout",
     "output_type": "stream",
     "text": [
      "\u001b[1m16/16\u001b[0m \u001b[32m━━━━━━━━━━━━━━━━━━━━\u001b[0m\u001b[37m\u001b[0m \u001b[1m0s\u001b[0m 998us/step\n",
      " (1/n) Calculating accuracy metrics\n"
     ]
    },
    {
     "name": "stderr",
     "output_type": "stream",
     "text": [
      "/Users/anani/Code/uq-qnn/.venv/lib/python3.9/site-packages/keras/src/layers/core/input_layer.py:25: UserWarning: Argument `input_shape` is deprecated. Use `shape` instead.\n"
     ]
    },
    {
     "name": "stdout",
     "output_type": "stream",
     "text": [
      "\u001b[1m16/16\u001b[0m \u001b[32m━━━━━━━━━━━━━━━━━━━━\u001b[0m\u001b[37m\u001b[0m \u001b[1m0s\u001b[0m 1ms/step \n",
      " (1/n) Calculating accuracy metrics\n"
     ]
    }
   ],
   "source": []
  },
  {
   "cell_type": "code",
   "execution_count": null,
   "metadata": {},
   "outputs": [],
   "source": []
  }
 ],
 "metadata": {
  "kernelspec": {
   "display_name": ".venv",
   "language": "python",
   "name": "python3"
  },
  "language_info": {
   "codemirror_mode": {
    "name": "ipython",
    "version": 3
   },
   "file_extension": ".py",
   "mimetype": "text/x-python",
   "name": "python",
   "nbconvert_exporter": "python",
   "pygments_lexer": "ipython3",
   "version": "3.9.16"
  }
 },
 "nbformat": 4,
 "nbformat_minor": 2
}
